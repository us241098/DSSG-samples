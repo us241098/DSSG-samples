{
 "cells": [
  {
   "cell_type": "markdown",
   "metadata": {},
   "source": [
    "# Imports and config\n",
    "\n",
    "Run this everytime"
   ]
  },
  {
   "cell_type": "code",
   "execution_count": 73,
   "metadata": {},
   "outputs": [],
   "source": [
    "import requests,json\n",
    "from pprint import pprint\n",
    "from fuzzywuzzy import fuzz\n",
    "import numpy as np"
   ]
  },
  {
   "cell_type": "code",
   "execution_count": 102,
   "metadata": {},
   "outputs": [],
   "source": [
    "API_URL = \"https://api.proxycrawl.com/scraper\"\n",
    "API_KEY = \"\"\n",
    "PARAMS = {\n",
    "    \"token\":API_KEY,\n",
    "    \"javascript\":\"true\",\n",
    "    \"url\":\"https://www.instagram.com/\"\n",
    "}\n",
    "\n",
    "assert API_KEY != \"\"\n",
    "assert \"https://www.instagram.com/\" in PARAMS[\"url\"]"
   ]
  },
  {
   "cell_type": "markdown",
   "metadata": {},
   "source": [
    "# Testing the API response"
   ]
  },
  {
   "cell_type": "markdown",
   "metadata": {},
   "source": [
    "## Getting the user data"
   ]
  },
  {
   "cell_type": "code",
   "execution_count": 26,
   "metadata": {},
   "outputs": [],
   "source": [
    "url = \"https://www.instagram.com/artbyjuliet\"\n",
    "PARAMS[\"url\"] = url\n",
    "assert \"https://www.instagram.com/\" in PARAMS[\"url\"]\n",
    "resp = requests.get(API_URL,PARAMS)"
   ]
  },
  {
   "cell_type": "code",
   "execution_count": 27,
   "metadata": {},
   "outputs": [],
   "source": [
    "result = resp.json()"
   ]
  },
  {
   "cell_type": "code",
   "execution_count": 29,
   "metadata": {},
   "outputs": [
    {
     "name": "stdout",
     "output_type": "stream",
     "text": [
      "{'bio': {'tags': [],\n",
      "         'text': '🇬🇧🇫🇷 Comics in eng/fr ✏️ Commissions: CLOSED‼️Ask permission '\n",
      "                 'for repost ✉️ business inquiries by mail ⬇️'},\n",
      " 'followersCount': {'text': '92.7k', 'value': '92,775'},\n",
      " 'followingCount': {'text': '265', 'value': '265'},\n",
      " 'igtvs': [],\n",
      " 'name': 'Juliette',\n",
      " 'openStories': [{'image': 'https://instagram.fvno2-1.fna.fbcdn.net/v/t51.12442-15/e35/c297.550.528.528a/s150x150/94466204_166039001533184_3854508874995469921_n.jpg?_nc_ht=instagram.fvno2-1.fna.fbcdn.net&_nc_cat=108&_nc_ohc=pR3RV6DagycAX-A2x3E&oh=46a25c6eec53752f43f886ac15d174fc&oe=5EC4A852',\n",
      "                  'text': \"Commissions's profile picture\"},\n",
      "                 {'image': 'https://instagram.fvno2-1.fna.fbcdn.net/v/t51.2885-15/s150x150/95429213_271220900586043_2157824169714876034_n.jpg?_nc_ht=instagram.fvno2-1.fna.fbcdn.net&_nc_ohc=NbRoUvoiDj0AX97K3yc&oh=4ec4f97e5bbc588938aebf059b50013e&oe=5EED32C1',\n",
      "                  'text': \"Twitter's profile picture\"},\n",
      "                 {'image': 'https://instagram.fvno2-1.fna.fbcdn.net/v/t51.2885-15/s150x150/88135193_1539962206153482_750215597152681533_n.jpg?_nc_ht=instagram.fvno2-1.fna.fbcdn.net&_nc_ohc=0Qsq343iwksAX8eKMYa&oh=be6853c7cea6a5569995cc5db4a3c9cd&oe=5EEBEE8C',\n",
      "                  'text': \"Graphite Comics's profile picture\"},\n",
      "                 {'image': 'https://instagram.fvno2-1.fna.fbcdn.net/v/t51.2885-15/s150x150/84352730_495629021120728_7765555220714894387_n.jpg?_nc_ht=instagram.fvno2-1.fna.fbcdn.net&_nc_ohc=UaiYmy5l4O0AX_KC_Ve&oh=7507751b6b014f11c654348ae9e28cc3&oe=5EEB6B75',\n",
      "                  'text': \"RhinoShield's profile picture\"},\n",
      "                 {'image': 'https://instagram.fvno2-1.fna.fbcdn.net/v/t51.2885-15/s150x150/84027896_200367004669592_5297548944528542034_n.jpg?_nc_ht=instagram.fvno2-1.fna.fbcdn.net&_nc_ohc=p5ejh_SmQXgAX-jz4Rc&oh=6dc4ee0ca205c9090d75f117ce4e07f9&oe=5EEC60EF',\n",
      "                  'text': \"Skillshare's profile picture\"},\n",
      "                 {'image': 'https://instagram.fvno2-1.fna.fbcdn.net/v/t51.2885-15/s150x150/83885862_801753020321620_5997249042623378372_n.jpg?_nc_ht=instagram.fvno2-1.fna.fbcdn.net&_nc_ohc=8w_skMJN4Z0AX8IFQVS&oh=70d230f2425eca9a738a647a119b9800&oe=5EED3F97',\n",
      "                  'text': \"Cat & Paris's profile picture\"},\n",
      "                 {'image': 'https://instagram.fvno2-1.fna.fbcdn.net/v/t51.12442-15/e35/c524.1141.538.538a/s150x150/67960716_534138453790780_8068960136425202369_n.jpg?_nc_ht=instagram.fvno2-1.fna.fbcdn.net&_nc_cat=104&_nc_ohc=sSMZCwC0OA0AX9fPrTN&oh=f88ccbc089e48b6a14cef424565e18ef&oe=5EC492CC',\n",
      "                  'text': \"Meet the artist's profile picture\"},\n",
      "                 {'image': 'https://instagram.fvno2-1.fna.fbcdn.net/v/t51.12442-15/e35/c701.1591.252.252a/s150x150/61741755_155348695594524_5967138726695347032_n.jpg?_nc_ht=instagram.fvno2-1.fna.fbcdn.net&_nc_cat=100&_nc_ohc=eJGxavYpk1MAX_QfKAu&oh=cb6279b197114156d044d23850c6610f&oe=5EC4FE76',\n",
      "                  'text': \"fanarts's profile picture\"}],\n",
      " 'picture': 'https://instagram.fvno2-1.fna.fbcdn.net/v/t51.2885-19/s150x150/83923473_679724872564551_8335522487689281536_n.jpg?_nc_ht=instagram.fvno2-1.fna.fbcdn.net&_nc_ohc=Qp_hig7KNR8AX8KygVN&oh=a569351a9db2d811389bb04380259876&oe=5EEAB0AA',\n",
      " 'posts': [{'image': 'https://instagram.fvno2-1.fna.fbcdn.net/v/t51.2885-15/sh0.08/e35/s640x640/98337284_254934262536745_1242074550703354521_n.jpg?_nc_ht=instagram.fvno2-1.fna.fbcdn.net&_nc_cat=1&_nc_ohc=crrLcQjfmHwAX-u2q3a&oh=f4773b1530084ab87ccac39fc8b5e045&oe=5EEA6DEF',\n",
      "            'imageData': 'Photo shared by Juliette on May 17, 2020 tagging '\n",
      "                         '@nintendoswitchfr. Image may contain: text',\n",
      "            'images': ['https://instagram.fvno2-1.fna.fbcdn.net/v/t51.2885-15/e35/s150x150/98337284_254934262536745_1242074550703354521_n.jpg?_nc_ht=instagram.fvno2-1.fna.fbcdn.net&_nc_cat=1&_nc_ohc=crrLcQjfmHwAX-u2q3a&oh=a5d6b4b0624a0c9c3e7af2264ddb700b&oe=5EEC514A',\n",
      "                       '150w,https://instagram.fvno2-1.fna.fbcdn.net/v/t51.2885-15/e35/s240x240/98337284_254934262536745_1242074550703354521_n.jpg?_nc_ht=instagram.fvno2-1.fna.fbcdn.net&_nc_cat=1&_nc_ohc=crrLcQjfmHwAX-u2q3a&oh=d52005b42d03e6be10e960191e71d0cf&oe=5EEAD684',\n",
      "                       '240w,https://instagram.fvno2-1.fna.fbcdn.net/v/t51.2885-15/e35/s320x320/98337284_254934262536745_1242074550703354521_n.jpg?_nc_ht=instagram.fvno2-1.fna.fbcdn.net&_nc_cat=1&_nc_ohc=crrLcQjfmHwAX-u2q3a&oh=4699d634de041d541fda816f21b20e1a&oe=5EEA743A',\n",
      "                       '320w,https://instagram.fvno2-1.fna.fbcdn.net/v/t51.2885-15/e35/s480x480/98337284_254934262536745_1242074550703354521_n.jpg?_nc_ht=instagram.fvno2-1.fna.fbcdn.net&_nc_cat=1&_nc_ohc=crrLcQjfmHwAX-u2q3a&oh=9ac23b412a362cff72fb467a710a1aad&oe=5EED51E4',\n",
      "                       '480w,https://instagram.fvno2-1.fna.fbcdn.net/v/t51.2885-15/sh0.08/e35/s640x640/98337284_254934262536745_1242074550703354521_n.jpg?_nc_ht=instagram.fvno2-1.fna.fbcdn.net&_nc_cat=1&_nc_ohc=crrLcQjfmHwAX-u2q3a&oh=f4773b1530084ab87ccac39fc8b5e045&oe=5EEA6DEF',\n",
      "                       '640w'],\n",
      "            'link': 'https://www.instagram.com/p/CATFDbwDlnm/'},\n",
      "           {'image': 'https://instagram.fvno2-1.fna.fbcdn.net/v/t51.2885-15/sh0.08/e35/s640x640/96585823_3213031375383091_3831078023878286875_n.jpg?_nc_ht=instagram.fvno2-1.fna.fbcdn.net&_nc_cat=107&_nc_ohc=_2a9CKAsgu8AX9LJcYv&oh=276edf071d60f94aa4444f5bb1961052&oe=5EED85D1',\n",
      "            'imageData': 'Photo by Juliette on May 14, 2020. Image may '\n",
      "                         'contain: 1 person, text',\n",
      "            'images': ['https://instagram.fvno2-1.fna.fbcdn.net/v/t51.2885-15/e35/s150x150/96585823_3213031375383091_3831078023878286875_n.jpg?_nc_ht=instagram.fvno2-1.fna.fbcdn.net&_nc_cat=107&_nc_ohc=_2a9CKAsgu8AX9LJcYv&oh=53394da00f9572041e7876c08397a039&oe=5EEB0156',\n",
      "                       '150w,https://instagram.fvno2-1.fna.fbcdn.net/v/t51.2885-15/e35/s240x240/96585823_3213031375383091_3831078023878286875_n.jpg?_nc_ht=instagram.fvno2-1.fna.fbcdn.net&_nc_cat=107&_nc_ohc=_2a9CKAsgu8AX9LJcYv&oh=dff734b9ca7836d2e5c259d92e476e9a&oe=5EEB89D4',\n",
      "                       '240w,https://instagram.fvno2-1.fna.fbcdn.net/v/t51.2885-15/e35/s320x320/96585823_3213031375383091_3831078023878286875_n.jpg?_nc_ht=instagram.fvno2-1.fna.fbcdn.net&_nc_cat=107&_nc_ohc=_2a9CKAsgu8AX9LJcYv&oh=6600ca85d448380cce427eebee165ad0&oe=5EEA0E2E',\n",
      "                       '320w,https://instagram.fvno2-1.fna.fbcdn.net/v/t51.2885-15/e35/s480x480/96585823_3213031375383091_3831078023878286875_n.jpg?_nc_ht=instagram.fvno2-1.fna.fbcdn.net&_nc_cat=107&_nc_ohc=_2a9CKAsgu8AX9LJcYv&oh=e97d0c03a6b47a5b33d8f543d2c38cad&oe=5EED546B',\n",
      "                       '480w,https://instagram.fvno2-1.fna.fbcdn.net/v/t51.2885-15/sh0.08/e35/s640x640/96585823_3213031375383091_3831078023878286875_n.jpg?_nc_ht=instagram.fvno2-1.fna.fbcdn.net&_nc_cat=107&_nc_ohc=_2a9CKAsgu8AX9LJcYv&oh=276edf071d60f94aa4444f5bb1961052&oe=5EED85D1',\n",
      "                       '640w'],\n",
      "            'link': 'https://www.instagram.com/p/CALgo0cjpg4/'},\n",
      "           {'image': 'https://instagram.fvno2-1.fna.fbcdn.net/v/t51.2885-15/sh0.08/e35/s640x640/97337726_3023550024358388_2235493694711849224_n.jpg?_nc_ht=instagram.fvno2-1.fna.fbcdn.net&_nc_cat=108&_nc_ohc=Gstk6gk71WAAX__HzGL&oh=0d968c6c459dba8228fc30d53a423dab&oe=5EEBCBC1',\n",
      "            'imageData': 'Photo by Juliette on May 10, 2020. Image may '\n",
      "                         'contain: 1 person',\n",
      "            'images': ['https://instagram.fvno2-1.fna.fbcdn.net/v/t51.2885-15/e35/s150x150/97337726_3023550024358388_2235493694711849224_n.jpg?_nc_ht=instagram.fvno2-1.fna.fbcdn.net&_nc_cat=108&_nc_ohc=Gstk6gk71WAAX__HzGL&oh=62f209b0e1f58f2992abe0c6d4155a5f&oe=5EEB4046',\n",
      "                       '150w,https://instagram.fvno2-1.fna.fbcdn.net/v/t51.2885-15/e35/s240x240/97337726_3023550024358388_2235493694711849224_n.jpg?_nc_ht=instagram.fvno2-1.fna.fbcdn.net&_nc_cat=108&_nc_ohc=Gstk6gk71WAAX__HzGL&oh=6495dbf4eba9469d53dfcb7d31fefedc&oe=5EEC8844',\n",
      "                       '240w,https://instagram.fvno2-1.fna.fbcdn.net/v/t51.2885-15/e35/s320x320/97337726_3023550024358388_2235493694711849224_n.jpg?_nc_ht=instagram.fvno2-1.fna.fbcdn.net&_nc_cat=108&_nc_ohc=Gstk6gk71WAAX__HzGL&oh=2ca853febec56886705a295ffce21020&oe=5EEAFEBE',\n",
      "                       '320w,https://instagram.fvno2-1.fna.fbcdn.net/v/t51.2885-15/e35/s480x480/97337726_3023550024358388_2235493694711849224_n.jpg?_nc_ht=instagram.fvno2-1.fna.fbcdn.net&_nc_cat=108&_nc_ohc=Gstk6gk71WAAX__HzGL&oh=9d10affba5a3772de21a91e060d91b37&oe=5EECA07B',\n",
      "                       '480w,https://instagram.fvno2-1.fna.fbcdn.net/v/t51.2885-15/sh0.08/e35/s640x640/97337726_3023550024358388_2235493694711849224_n.jpg?_nc_ht=instagram.fvno2-1.fna.fbcdn.net&_nc_cat=108&_nc_ohc=Gstk6gk71WAAX__HzGL&oh=0d968c6c459dba8228fc30d53a423dab&oe=5EEBCBC1',\n",
      "                       '640w'],\n",
      "            'link': 'https://www.instagram.com/p/CABjMaADebr/'},\n",
      "           {'image': 'https://instagram.fvno2-1.fna.fbcdn.net/v/t51.2885-15/sh0.08/e35/s640x640/96361530_313971929591041_7385779082877078009_n.jpg?_nc_ht=instagram.fvno2-1.fna.fbcdn.net&_nc_cat=101&_nc_ohc=7iwHXBPRPS0AX_WldeO&oh=110f057209fba962b32bac1e6c0935e7&oe=5EEA0625',\n",
      "            'imageData': 'Photo by Juliette on May 09, 2020. Image may '\n",
      "                         'contain: 1 person',\n",
      "            'images': ['https://instagram.fvno2-1.fna.fbcdn.net/v/t51.2885-15/e35/s150x150/96361530_313971929591041_7385779082877078009_n.jpg?_nc_ht=instagram.fvno2-1.fna.fbcdn.net&_nc_cat=101&_nc_ohc=7iwHXBPRPS0AX_WldeO&oh=31464dfc584a2e6d43f3eaeb68aa1884&oe=5EEA5B84',\n",
      "                       '150w,https://instagram.fvno2-1.fna.fbcdn.net/v/t51.2885-15/e35/s240x240/96361530_313971929591041_7385779082877078009_n.jpg?_nc_ht=instagram.fvno2-1.fna.fbcdn.net&_nc_cat=101&_nc_ohc=7iwHXBPRPS0AX_WldeO&oh=d03f91d8f74093f3fd3f28a45649dd88&oe=5EEA22CA',\n",
      "                       '240w,https://instagram.fvno2-1.fna.fbcdn.net/v/t51.2885-15/e35/s320x320/96361530_313971929591041_7385779082877078009_n.jpg?_nc_ht=instagram.fvno2-1.fna.fbcdn.net&_nc_cat=101&_nc_ohc=7iwHXBPRPS0AX_WldeO&oh=992a241920f1b30fda6360abb7fe5f00&oe=5EEAC974',\n",
      "                       '320w,https://instagram.fvno2-1.fna.fbcdn.net/v/t51.2885-15/e35/s480x480/96361530_313971929591041_7385779082877078009_n.jpg?_nc_ht=instagram.fvno2-1.fna.fbcdn.net&_nc_cat=101&_nc_ohc=7iwHXBPRPS0AX_WldeO&oh=d8e11cc7a646bc4f901d91b9b6befbd0&oe=5EECA1AA',\n",
      "                       '480w,https://instagram.fvno2-1.fna.fbcdn.net/v/t51.2885-15/sh0.08/e35/s640x640/96361530_313971929591041_7385779082877078009_n.jpg?_nc_ht=instagram.fvno2-1.fna.fbcdn.net&_nc_cat=101&_nc_ohc=7iwHXBPRPS0AX_WldeO&oh=110f057209fba962b32bac1e6c0935e7&oe=5EEA0625',\n",
      "                       '640w'],\n",
      "            'link': 'https://www.instagram.com/p/B_-lg_9DhmG/'},\n",
      "           {'image': 'https://instagram.fvno2-1.fna.fbcdn.net/v/t51.2885-15/sh0.08/e35/s640x640/95815869_2500550206712747_1826384348336709612_n.jpg?_nc_ht=instagram.fvno2-1.fna.fbcdn.net&_nc_cat=111&_nc_ohc=28PZveP5JyMAX_DiTtk&oh=6ccacb011623f0e648145ac59d78880d&oe=5EEBCDE4',\n",
      "            'imageData': 'Photo shared by Juliette on May 08, 2020 tagging '\n",
      "                         '@artbymoga.',\n",
      "            'images': ['https://instagram.fvno2-1.fna.fbcdn.net/v/t51.2885-15/e35/s150x150/95815869_2500550206712747_1826384348336709612_n.jpg?_nc_ht=instagram.fvno2-1.fna.fbcdn.net&_nc_cat=111&_nc_ohc=28PZveP5JyMAX_DiTtk&oh=3dbd55f22c547364a3ef87c97439337e&oe=5EEC3FE7',\n",
      "                       '150w,https://instagram.fvno2-1.fna.fbcdn.net/v/t51.2885-15/e35/s240x240/95815869_2500550206712747_1826384348336709612_n.jpg?_nc_ht=instagram.fvno2-1.fna.fbcdn.net&_nc_cat=111&_nc_ohc=28PZveP5JyMAX_DiTtk&oh=f88b6d48009e2cfa210d88a7520ef6c5&oe=5EEBF661',\n",
      "                       '240w,https://instagram.fvno2-1.fna.fbcdn.net/v/t51.2885-15/e35/s320x320/95815869_2500550206712747_1826384348336709612_n.jpg?_nc_ht=instagram.fvno2-1.fna.fbcdn.net&_nc_cat=111&_nc_ohc=28PZveP5JyMAX_DiTtk&oh=3ad8b9b52c65141a4f80b643da7bccd8&oe=5EEB699F',\n",
      "                       '320w,https://instagram.fvno2-1.fna.fbcdn.net/v/t51.2885-15/e35/s480x480/95815869_2500550206712747_1826384348336709612_n.jpg?_nc_ht=instagram.fvno2-1.fna.fbcdn.net&_nc_cat=111&_nc_ohc=28PZveP5JyMAX_DiTtk&oh=ee5458c653ba12ca889bede475e077c5&oe=5EEA58DA',\n",
      "                       '480w,https://instagram.fvno2-1.fna.fbcdn.net/v/t51.2885-15/sh0.08/e35/s640x640/95815869_2500550206712747_1826384348336709612_n.jpg?_nc_ht=instagram.fvno2-1.fna.fbcdn.net&_nc_cat=111&_nc_ohc=28PZveP5JyMAX_DiTtk&oh=6ccacb011623f0e648145ac59d78880d&oe=5EEBCDE4',\n",
      "                       '640w'],\n",
      "            'link': 'https://www.instagram.com/p/B_70LPsjNH5/'},\n",
      "           {'image': 'https://instagram.fvno2-1.fna.fbcdn.net/v/t51.2885-15/sh0.08/e35/s640x640/96368598_1140930176266672_7374460827869376942_n.jpg?_nc_ht=instagram.fvno2-1.fna.fbcdn.net&_nc_cat=104&_nc_ohc=nZId4HIYS80AX8e9Z5v&oh=a6b9455bb74236906ce93cccd9eae87f&oe=5EED8F5B',\n",
      "            'imageData': 'Photo by Juliette on May 07, 2020.',\n",
      "            'images': ['https://instagram.fvno2-1.fna.fbcdn.net/v/t51.2885-15/e35/s150x150/96368598_1140930176266672_7374460827869376942_n.jpg?_nc_ht=instagram.fvno2-1.fna.fbcdn.net&_nc_cat=104&_nc_ohc=nZId4HIYS80AX8e9Z5v&oh=2c0a316c384435832d52b8f2e0547e9b&oe=5EED4060',\n",
      "                       '150w,https://instagram.fvno2-1.fna.fbcdn.net/v/t51.2885-15/e35/s240x240/96368598_1140930176266672_7374460827869376942_n.jpg?_nc_ht=instagram.fvno2-1.fna.fbcdn.net&_nc_cat=104&_nc_ohc=nZId4HIYS80AX8e9Z5v&oh=8ff4a5df21333fb0e5befeda8cdfb4f4&oe=5EEA16DA',\n",
      "                       '240w,https://instagram.fvno2-1.fna.fbcdn.net/v/t51.2885-15/e35/s320x320/96368598_1140930176266672_7374460827869376942_n.jpg?_nc_ht=instagram.fvno2-1.fna.fbcdn.net&_nc_cat=104&_nc_ohc=nZId4HIYS80AX8e9Z5v&oh=5c957f127b46e3974bc294e21f8d13f1&oe=5EED65A8',\n",
      "                       '320w,https://instagram.fvno2-1.fna.fbcdn.net/v/t51.2885-15/e35/s480x480/96368598_1140930176266672_7374460827869376942_n.jpg?_nc_ht=instagram.fvno2-1.fna.fbcdn.net&_nc_cat=104&_nc_ohc=nZId4HIYS80AX8e9Z5v&oh=7f8ec9a6cf900582440f68c1457e3d21&oe=5EED00E1',\n",
      "                       '480w,https://instagram.fvno2-1.fna.fbcdn.net/v/t51.2885-15/sh0.08/e35/s640x640/96368598_1140930176266672_7374460827869376942_n.jpg?_nc_ht=instagram.fvno2-1.fna.fbcdn.net&_nc_cat=104&_nc_ohc=nZId4HIYS80AX8e9Z5v&oh=a6b9455bb74236906ce93cccd9eae87f&oe=5EED8F5B',\n",
      "                       '640w'],\n",
      "            'link': 'https://www.instagram.com/p/B_5cjIlj8be/'},\n",
      "           {'image': 'https://instagram.fvno2-1.fna.fbcdn.net/v/t51.2885-15/sh0.08/e35/s640x640/96101932_120312446314542_3537787072688938673_n.jpg?_nc_ht=instagram.fvno2-1.fna.fbcdn.net&_nc_cat=106&_nc_ohc=iPGdIm8hlfgAX_pSRAa&oh=20d9def8cca67a17ca8510df6b339df1&oe=5EEC00A5',\n",
      "            'imageData': 'Photo by Juliette on May 03, 2020. Image may '\n",
      "                         'contain: text',\n",
      "            'images': ['https://instagram.fvno2-1.fna.fbcdn.net/v/t51.2885-15/e35/s150x150/96101932_120312446314542_3537787072688938673_n.jpg?_nc_ht=instagram.fvno2-1.fna.fbcdn.net&_nc_cat=106&_nc_ohc=iPGdIm8hlfgAX_pSRAa&oh=4f0654183d815551b9b8a9dc92c22c5f&oe=5EECE304',\n",
      "                       '150w,https://instagram.fvno2-1.fna.fbcdn.net/v/t51.2885-15/e35/s240x240/96101932_120312446314542_3537787072688938673_n.jpg?_nc_ht=instagram.fvno2-1.fna.fbcdn.net&_nc_cat=106&_nc_ohc=iPGdIm8hlfgAX_pSRAa&oh=fc8f9cae8c28d2db7ebeb7bdf91b7ada&oe=5EED7F4A',\n",
      "                       '240w,https://instagram.fvno2-1.fna.fbcdn.net/v/t51.2885-15/e35/s320x320/96101932_120312446314542_3537787072688938673_n.jpg?_nc_ht=instagram.fvno2-1.fna.fbcdn.net&_nc_cat=106&_nc_ohc=iPGdIm8hlfgAX_pSRAa&oh=f9845892fcc48c9aba6cb1f6af47f2d2&oe=5EEC3074',\n",
      "                       '320w,https://instagram.fvno2-1.fna.fbcdn.net/v/t51.2885-15/e35/s480x480/96101932_120312446314542_3537787072688938673_n.jpg?_nc_ht=instagram.fvno2-1.fna.fbcdn.net&_nc_cat=106&_nc_ohc=iPGdIm8hlfgAX_pSRAa&oh=8df889435907c74d73dc86945deea456&oe=5EEAB6AA',\n",
      "                       '480w,https://instagram.fvno2-1.fna.fbcdn.net/v/t51.2885-15/sh0.08/e35/s640x640/96101932_120312446314542_3537787072688938673_n.jpg?_nc_ht=instagram.fvno2-1.fna.fbcdn.net&_nc_cat=106&_nc_ohc=iPGdIm8hlfgAX_pSRAa&oh=20d9def8cca67a17ca8510df6b339df1&oe=5EEC00A5',\n",
      "                       '640w'],\n",
      "            'link': 'https://www.instagram.com/p/B_vVJygD0Sa/'},\n",
      "           {'image': 'https://instagram.fvno2-1.fna.fbcdn.net/v/t51.2885-15/sh0.08/e35/s640x640/94606355_281345599555685_6293431404250411888_n.jpg?_nc_ht=instagram.fvno2-1.fna.fbcdn.net&_nc_cat=105&_nc_ohc=quXTuRGt8wYAX88osJE&oh=f80b328cecd5a3f6ad5051a83f535e34&oe=5EED9A46',\n",
      "            'imageData': 'Photo by Juliette on April 28, 2020. Image may '\n",
      "                         'contain: text',\n",
      "            'images': ['https://instagram.fvno2-1.fna.fbcdn.net/v/t51.2885-15/e35/s150x150/94606355_281345599555685_6293431404250411888_n.jpg?_nc_ht=instagram.fvno2-1.fna.fbcdn.net&_nc_cat=105&_nc_ohc=quXTuRGt8wYAX88osJE&oh=e8dd947ab1bf8c3a949a641264cb5774&oe=5EECFEE3',\n",
      "                       '150w,https://instagram.fvno2-1.fna.fbcdn.net/v/t51.2885-15/e35/s240x240/94606355_281345599555685_6293431404250411888_n.jpg?_nc_ht=instagram.fvno2-1.fna.fbcdn.net&_nc_cat=105&_nc_ohc=quXTuRGt8wYAX88osJE&oh=432182d160456eee227258ffec2ada25&oe=5EEAD7A9',\n",
      "                       '240w,https://instagram.fvno2-1.fna.fbcdn.net/v/t51.2885-15/e35/s320x320/94606355_281345599555685_6293431404250411888_n.jpg?_nc_ht=instagram.fvno2-1.fna.fbcdn.net&_nc_cat=105&_nc_ohc=quXTuRGt8wYAX88osJE&oh=ec636b1db6d08cfd332ee51cd13f93ca&oe=5EEDCD13',\n",
      "                       '320w,https://instagram.fvno2-1.fna.fbcdn.net/v/t51.2885-15/e35/s480x480/94606355_281345599555685_6293431404250411888_n.jpg?_nc_ht=instagram.fvno2-1.fna.fbcdn.net&_nc_cat=105&_nc_ohc=quXTuRGt8wYAX88osJE&oh=bfdd6fba89bfe2d057dd353d20fd2a82&oe=5EED6E49',\n",
      "                       '480w,https://instagram.fvno2-1.fna.fbcdn.net/v/t51.2885-15/sh0.08/e35/s640x640/94606355_281345599555685_6293431404250411888_n.jpg?_nc_ht=instagram.fvno2-1.fna.fbcdn.net&_nc_cat=105&_nc_ohc=quXTuRGt8wYAX88osJE&oh=f80b328cecd5a3f6ad5051a83f535e34&oe=5EED9A46',\n",
      "                       '640w'],\n",
      "            'link': 'https://www.instagram.com/p/B_iDqOjD71V/'},\n",
      "           {'image': 'https://instagram.fvno2-1.fna.fbcdn.net/v/t51.2885-15/sh0.08/e35/s640x640/95010391_548423449412325_8309976579272775837_n.jpg?_nc_ht=instagram.fvno2-1.fna.fbcdn.net&_nc_cat=109&_nc_ohc=YG9QItja9sYAX9N2PAv&oh=68c175b0a48c13d4473498c3b08cef47&oe=5EEC8653',\n",
      "            'imageData': 'Photo by Juliette on April 26, 2020.',\n",
      "            'images': ['https://instagram.fvno2-1.fna.fbcdn.net/v/t51.2885-15/e35/s150x150/95010391_548423449412325_8309976579272775837_n.jpg?_nc_ht=instagram.fvno2-1.fna.fbcdn.net&_nc_cat=109&_nc_ohc=YG9QItja9sYAX9N2PAv&oh=94a980b4389d522e896669a06022ea56&oe=5EEDA376',\n",
      "                       '150w,https://instagram.fvno2-1.fna.fbcdn.net/v/t51.2885-15/e35/s240x240/95010391_548423449412325_8309976579272775837_n.jpg?_nc_ht=instagram.fvno2-1.fna.fbcdn.net&_nc_cat=109&_nc_ohc=YG9QItja9sYAX9N2PAv&oh=f7a17171f30cc71557e947b42e5a27bc&oe=5EEA75C0',\n",
      "                       '240w,https://instagram.fvno2-1.fna.fbcdn.net/v/t51.2885-15/e35/s320x320/95010391_548423449412325_8309976579272775837_n.jpg?_nc_ht=instagram.fvno2-1.fna.fbcdn.net&_nc_cat=109&_nc_ohc=YG9QItja9sYAX9N2PAv&oh=ad7dba8f63d84ea24777f330d10f9ffe&oe=5EEAAA06',\n",
      "                       '320w,https://instagram.fvno2-1.fna.fbcdn.net/v/t51.2885-15/e35/s480x480/95010391_548423449412325_8309976579272775837_n.jpg?_nc_ht=instagram.fvno2-1.fna.fbcdn.net&_nc_cat=109&_nc_ohc=YG9QItja9sYAX9N2PAv&oh=d1f47808757e968d05782b53c1f01f12&oe=5EED76E0',\n",
      "                       '480w,https://instagram.fvno2-1.fna.fbcdn.net/v/t51.2885-15/sh0.08/e35/s640x640/95010391_548423449412325_8309976579272775837_n.jpg?_nc_ht=instagram.fvno2-1.fna.fbcdn.net&_nc_cat=109&_nc_ohc=YG9QItja9sYAX9N2PAv&oh=68c175b0a48c13d4473498c3b08cef47&oe=5EEC8653',\n",
      "                       '640w'],\n",
      "            'link': 'https://www.instagram.com/p/B_c7rHIDp2r/'},\n",
      "           {'image': 'https://instagram.fvno2-1.fna.fbcdn.net/v/t51.2885-15/sh0.08/e35/s640x640/94757779_231715601235537_9221651577557423063_n.jpg?_nc_ht=instagram.fvno2-1.fna.fbcdn.net&_nc_cat=109&_nc_ohc=KGLdueknQgYAX_annsX&oh=2c0b6aeee106c9c27de687cc4ab16360&oe=5EEAF029',\n",
      "            'imageData': 'Photo by Juliette on April 23, 2020. Image may '\n",
      "                         'contain: 1 person',\n",
      "            'images': ['https://instagram.fvno2-1.fna.fbcdn.net/v/t51.2885-15/e35/s150x150/94757779_231715601235537_9221651577557423063_n.jpg?_nc_ht=instagram.fvno2-1.fna.fbcdn.net&_nc_cat=109&_nc_ohc=KGLdueknQgYAX_annsX&oh=a59e21e48450133625163cd0df966ac2&oe=5EEBB510',\n",
      "                       '150w,https://instagram.fvno2-1.fna.fbcdn.net/v/t51.2885-15/e35/s240x240/94757779_231715601235537_9221651577557423063_n.jpg?_nc_ht=instagram.fvno2-1.fna.fbcdn.net&_nc_cat=109&_nc_ohc=KGLdueknQgYAX_annsX&oh=37516474c41ee1168fcf67dce47b349c&oe=5EEC6DC6',\n",
      "                       '240w,https://instagram.fvno2-1.fna.fbcdn.net/v/t51.2885-15/e35/s320x320/94757779_231715601235537_9221651577557423063_n.jpg?_nc_ht=instagram.fvno2-1.fna.fbcdn.net&_nc_cat=109&_nc_ohc=KGLdueknQgYAX_annsX&oh=a12e77bc8c966703e96ed7dadb0a208f&oe=5EECE480',\n",
      "                       '320w,https://instagram.fvno2-1.fna.fbcdn.net/v/t51.2885-15/e35/s480x480/94757779_231715601235537_9221651577557423063_n.jpg?_nc_ht=instagram.fvno2-1.fna.fbcdn.net&_nc_cat=109&_nc_ohc=KGLdueknQgYAX_annsX&oh=69fd905e199e3dd272208415ad6c6848&oe=5EEBBC26',\n",
      "                       '480w,https://instagram.fvno2-1.fna.fbcdn.net/v/t51.2885-15/sh0.08/e35/s640x640/94757779_231715601235537_9221651577557423063_n.jpg?_nc_ht=instagram.fvno2-1.fna.fbcdn.net&_nc_cat=109&_nc_ohc=KGLdueknQgYAX_annsX&oh=2c0b6aeee106c9c27de687cc4ab16360&oe=5EEAF029',\n",
      "                       '640w'],\n",
      "            'link': 'https://www.instagram.com/p/B_Vg5hQjiJ2/'},\n",
      "           {'image': 'https://instagram.fvno2-1.fna.fbcdn.net/v/t51.2885-15/sh0.08/e35/s640x640/94016849_2638776576404713_7568159707852831867_n.jpg?_nc_ht=instagram.fvno2-1.fna.fbcdn.net&_nc_cat=101&_nc_ohc=JffbxY1Ak1kAX9GCk-5&oh=e059e99cf0f87e56258729de00d03c3c&oe=5EEC8D90',\n",
      "            'imageData': 'Photo by Juliette on April 21, 2020. Image may '\n",
      "                         'contain: text',\n",
      "            'images': ['https://instagram.fvno2-1.fna.fbcdn.net/v/t51.2885-15/e35/s150x150/94016849_2638776576404713_7568159707852831867_n.jpg?_nc_ht=instagram.fvno2-1.fna.fbcdn.net&_nc_cat=101&_nc_ohc=JffbxY1Ak1kAX9GCk-5&oh=000c24e282c6b7ffeacec364908c027e&oe=5EEA408B',\n",
      "                       '150w,https://instagram.fvno2-1.fna.fbcdn.net/v/t51.2885-15/e35/s240x240/94016849_2638776576404713_7568159707852831867_n.jpg?_nc_ht=instagram.fvno2-1.fna.fbcdn.net&_nc_cat=101&_nc_ohc=JffbxY1Ak1kAX9GCk-5&oh=c18ae3710d801a3b46892f048e8fc39d&oe=5EEAC00D',\n",
      "                       '240w,https://instagram.fvno2-1.fna.fbcdn.net/v/t51.2885-15/e35/s320x320/94016849_2638776576404713_7568159707852831867_n.jpg?_nc_ht=instagram.fvno2-1.fna.fbcdn.net&_nc_cat=101&_nc_ohc=JffbxY1Ak1kAX9GCk-5&oh=2869519d6c74d1eb88f995eb1725ca9b&oe=5EED66F3',\n",
      "                       '320w,https://instagram.fvno2-1.fna.fbcdn.net/v/t51.2885-15/e35/s480x480/94016849_2638776576404713_7568159707852831867_n.jpg?_nc_ht=instagram.fvno2-1.fna.fbcdn.net&_nc_cat=101&_nc_ohc=JffbxY1Ak1kAX9GCk-5&oh=0d60ff5fed7fca00fc9c853f724f83ea&oe=5EECD1B6',\n",
      "                       '480w,https://instagram.fvno2-1.fna.fbcdn.net/v/t51.2885-15/sh0.08/e35/s640x640/94016849_2638776576404713_7568159707852831867_n.jpg?_nc_ht=instagram.fvno2-1.fna.fbcdn.net&_nc_cat=101&_nc_ohc=JffbxY1Ak1kAX9GCk-5&oh=e059e99cf0f87e56258729de00d03c3c&oe=5EEC8D90',\n",
      "                       '640w'],\n",
      "            'link': 'https://www.instagram.com/p/B_QLKAIjkQb/'},\n",
      "           {'image': 'https://instagram.fvno2-1.fna.fbcdn.net/v/t51.2885-15/sh0.08/e35/s640x640/93412082_688777175211113_4291389089275411597_n.jpg?_nc_ht=instagram.fvno2-1.fna.fbcdn.net&_nc_cat=105&_nc_ohc=wsbYc6fKA84AX-Dt_co&oh=d783de85698a97ce3f82cc03339468eb&oe=5EEC4CB0',\n",
      "            'imageData': 'Photo by Juliette on April 19, 2020.',\n",
      "            'images': ['https://instagram.fvno2-1.fna.fbcdn.net/v/t51.2885-15/e35/s150x150/93412082_688777175211113_4291389089275411597_n.jpg?_nc_ht=instagram.fvno2-1.fna.fbcdn.net&_nc_cat=105&_nc_ohc=wsbYc6fKA84AX-Dt_co&oh=4c462dc3415ceb18e4f1b3467bc966ff&oe=5EECD709',\n",
      "                       '150w,https://instagram.fvno2-1.fna.fbcdn.net/v/t51.2885-15/e35/s240x240/93412082_688777175211113_4291389089275411597_n.jpg?_nc_ht=instagram.fvno2-1.fna.fbcdn.net&_nc_cat=105&_nc_ohc=wsbYc6fKA84AX-Dt_co&oh=f77458bcbda3e7adf5fb2e42e730d240&oe=5EEABFC3',\n",
      "                       '240w,https://instagram.fvno2-1.fna.fbcdn.net/v/t51.2885-15/e35/s320x320/93412082_688777175211113_4291389089275411597_n.jpg?_nc_ht=instagram.fvno2-1.fna.fbcdn.net&_nc_cat=105&_nc_ohc=wsbYc6fKA84AX-Dt_co&oh=18af61fe60ece87fe35497264ae4ebae&oe=5EED89F9',\n",
      "                       '320w,https://instagram.fvno2-1.fna.fbcdn.net/v/t51.2885-15/e35/s480x480/93412082_688777175211113_4291389089275411597_n.jpg?_nc_ht=instagram.fvno2-1.fna.fbcdn.net&_nc_cat=105&_nc_ohc=wsbYc6fKA84AX-Dt_co&oh=f57a02e933183c658a9ab323eecc5f4a&oe=5EEDCBA3',\n",
      "                       '480w,https://instagram.fvno2-1.fna.fbcdn.net/v/t51.2885-15/sh0.08/e35/s640x640/93412082_688777175211113_4291389089275411597_n.jpg?_nc_ht=instagram.fvno2-1.fna.fbcdn.net&_nc_cat=105&_nc_ohc=wsbYc6fKA84AX-Dt_co&oh=d783de85698a97ce3f82cc03339468eb&oe=5EEC4CB0',\n",
      "                       '640w'],\n",
      "            'link': 'https://www.instagram.com/p/B_K-DfBDVJj/'}],\n",
      " 'postsCount': {'text': '274', 'value': '274'},\n",
      " 'username': 'artbyjuliet',\n",
      " 'verified': True}\n"
     ]
    }
   ],
   "source": [
    "pprint(result[\"body\"])"
   ]
  },
  {
   "cell_type": "code",
   "execution_count": 31,
   "metadata": {},
   "outputs": [
    {
     "name": "stdout",
     "output_type": "stream",
     "text": [
      "https://instagram.fvno2-1.fna.fbcdn.net/v/t51.2885-19/s150x150/83923473_679724872564551_8335522487689281536_n.jpg?_nc_ht=instagram.fvno2-1.fna.fbcdn.net&_nc_ohc=Qp_hig7KNR8AX8KygVN&oh=a569351a9db2d811389bb04380259876&oe=5EEAB0AA\n"
     ]
    }
   ],
   "source": [
    "print(result[\"body\"][\"picture\"])"
   ]
  },
  {
   "cell_type": "code",
   "execution_count": 32,
   "metadata": {},
   "outputs": [],
   "source": [
    "url = \"https://www.instagram.com/_akhilsingh__\"\n",
    "PARAMS[\"url\"] = url\n",
    "assert \"https://www.instagram.com/\" in PARAMS[\"url\"]\n",
    "resp = requests.get(API_URL,PARAMS)"
   ]
  },
  {
   "cell_type": "code",
   "execution_count": 33,
   "metadata": {},
   "outputs": [],
   "source": [
    "result2 = resp.json()"
   ]
  },
  {
   "cell_type": "markdown",
   "metadata": {
    "heading_collapsed": true
   },
   "source": [
    "## Checking out the format"
   ]
  },
  {
   "cell_type": "code",
   "execution_count": 34,
   "metadata": {
    "hidden": true
   },
   "outputs": [
    {
     "data": {
      "text/plain": [
       "{'username': '_akhilsingh__',\n",
       " 'verified': False,\n",
       " 'postsCount': {'value': '11', 'text': '11'},\n",
       " 'followersCount': {'value': '337', 'text': '337'},\n",
       " 'followingCount': {'value': '1,555', 'text': '1,555'},\n",
       " 'picture': None,\n",
       " 'name': 'Akhil Singh',\n",
       " 'bio': {'text': 'A ghost that eats pizza drinks chai, loves bikes and listens to violin and pianoBike enthusiast 🏍️',\n",
       "  'tags': []},\n",
       " 'openStories': [],\n",
       " 'posts': [],\n",
       " 'igtvs': []}"
      ]
     },
     "execution_count": 34,
     "metadata": {},
     "output_type": "execute_result"
    }
   ],
   "source": [
    "result2[\"body\"]"
   ]
  },
  {
   "cell_type": "code",
   "execution_count": 47,
   "metadata": {
    "hidden": true
   },
   "outputs": [
    {
     "name": "stdout",
     "output_type": "stream",
     "text": [
      "{'bio': {'tags': [],\n",
      "         'text': 'A ghost that eats pizza drinks chai, loves bikes and listens '\n",
      "                 'to violin and pianoBike enthusiast 🏍️'},\n",
      " 'followersCount': {'text': '337', 'value': '337'},\n",
      " 'followingCount': {'text': '1,555', 'value': '1,555'},\n",
      " 'igtvs': [],\n",
      " 'name': 'Akhil Singh',\n",
      " 'openStories': [],\n",
      " 'picture': None,\n",
      " 'posts': [],\n",
      " 'postsCount': {'text': '11', 'value': '11'},\n",
      " 'username': '_akhilsingh__',\n",
      " 'verified': False}\n"
     ]
    }
   ],
   "source": [
    "usr = result2[\"body\"]\n",
    "pprint(usr)"
   ]
  },
  {
   "cell_type": "code",
   "execution_count": 98,
   "metadata": {
    "hidden": true
   },
   "outputs": [
    {
     "data": {
      "text/plain": [
       "'https://www.instagram.com/_akhilsingh__/'"
      ]
     },
     "execution_count": 98,
     "metadata": {},
     "output_type": "execute_result"
    }
   ],
   "source": [
    "result2[\"url\"]"
   ]
  },
  {
   "cell_type": "markdown",
   "metadata": {
    "heading_collapsed": true
   },
   "source": [
    "## Creating a dummy genuine user"
   ]
  },
  {
   "cell_type": "code",
   "execution_count": 67,
   "metadata": {
    "hidden": true
   },
   "outputs": [
    {
     "name": "stdout",
     "output_type": "stream",
     "text": [
      "{'bio': {'text': 'A ghost that eats pizza drinks chai, loves bikes and listens '\n",
      "                 'to violin and piano'},\n",
      " 'name': 'Akhil Singh the Necromancer',\n",
      " 'username': '_akhi1singh__',\n",
      " 'verified': True}\n"
     ]
    }
   ],
   "source": [
    "gen_usr={}\n",
    "gen_usr[\"name\"] = \"Akhil Singh the Necromancer\"\n",
    "gen_usr[\"username\"] = \"_akhi1singh__\"\n",
    "gen_usr[\"verified\"] = True\n",
    "gen_usr[\"bio\"] = {}\n",
    "gen_usr[\"bio\"][\"text\"] = \"A ghost that eats pizza drinks chai, loves bikes and listens to violin and piano\"\n",
    "pprint(gen_usr)"
   ]
  },
  {
   "cell_type": "markdown",
   "metadata": {
    "heading_collapsed": true
   },
   "source": [
    "## Feature engineering"
   ]
  },
  {
   "cell_type": "code",
   "execution_count": 68,
   "metadata": {
    "hidden": true
   },
   "outputs": [
    {
     "data": {
      "text/plain": [
       "0.92"
      ]
     },
     "execution_count": 68,
     "metadata": {},
     "output_type": "execute_result"
    }
   ],
   "source": [
    "uname_match = fuzz.ratio(gen_usr[\"username\"],usr[\"username\"])/100\n",
    "uname_match"
   ]
  },
  {
   "cell_type": "code",
   "execution_count": 69,
   "metadata": {
    "hidden": true
   },
   "outputs": [
    {
     "data": {
      "text/plain": [
       "0.58"
      ]
     },
     "execution_count": 69,
     "metadata": {},
     "output_type": "execute_result"
    }
   ],
   "source": [
    "name_match = fuzz.ratio(gen_usr[\"name\"],usr[\"name\"])/100\n",
    "name_match"
   ]
  },
  {
   "cell_type": "code",
   "execution_count": 70,
   "metadata": {
    "hidden": true
   },
   "outputs": [],
   "source": [
    "def word_overlap_similarity(sentence1, sentence2):\n",
    "    \"\"\"Function to find the similarity between list of words using % of words in common between them.\"\"\"\n",
    "    sentence1 = filter(None,sentence1.replace(\",\",\" \").split(\" \"))\n",
    "    sentence2 = filter(None,sentence2.replace(\",\",\" \").split(\" \"))\n",
    "    \n",
    "    sentence1 = set(sentence1)\n",
    "    sentence2 = set(sentence2)\n",
    "    \n",
    "    if len(sentence2.union(sentence1)) != 0:\n",
    "        return len((sentence2.intersection(sentence1))) / len(sentence2.union(sentence1))\n",
    "    else:\n",
    "        return 0"
   ]
  },
  {
   "cell_type": "code",
   "execution_count": 71,
   "metadata": {
    "hidden": true
   },
   "outputs": [
    {
     "data": {
      "text/plain": [
       "0.7647058823529411"
      ]
     },
     "execution_count": 71,
     "metadata": {},
     "output_type": "execute_result"
    }
   ],
   "source": [
    "word_overlap_similarity(gen_usr[\"bio\"].get(\"text\",\"\"),usr[\"bio\"].get(\"text\",\"\"))"
   ]
  },
  {
   "cell_type": "code",
   "execution_count": 77,
   "metadata": {
    "hidden": true
   },
   "outputs": [
    {
     "data": {
      "text/plain": [
       "0.21672025723472668"
      ]
     },
     "execution_count": 77,
     "metadata": {},
     "output_type": "execute_result"
    }
   ],
   "source": [
    "follow_ratio = int(usr[\"followersCount\"][\"value\"].replace(\",\",\"\"))/int(usr[\"followingCount\"][\"value\"].replace(\",\",\"\"))\n",
    "follow_ratio"
   ]
  },
  {
   "cell_type": "code",
   "execution_count": 86,
   "metadata": {
    "hidden": true
   },
   "outputs": [
    {
     "data": {
      "text/plain": [
       "0.6482748544423349"
      ]
     },
     "execution_count": 86,
     "metadata": {},
     "output_type": "execute_result"
    }
   ],
   "source": [
    "sensitivity = 2\n",
    "np.exp(-sensitivity*(follow_ratio))"
   ]
  },
  {
   "cell_type": "markdown",
   "metadata": {
    "heading_collapsed": true
   },
   "source": [
    "## Assembling all features into one aggregation"
   ]
  },
  {
   "cell_type": "code",
   "execution_count": 94,
   "metadata": {
    "hidden": true
   },
   "outputs": [],
   "source": [
    "def predict_impersonation(gen_usr,usr):\n",
    "    l = []\n",
    "    global sensitivity\n",
    "    # Img similarity goes here\n",
    "    # l.append(calc_sim(gen_usr[\"picture\"],usr.get(\"picture\")))\n",
    "    \n",
    "    # if genuine user is verified, append curent usr's verification status\n",
    "    if gen_usr[\"verified\"]:\n",
    "        l.append(int(not usr[\"verified\"]))\n",
    "    \n",
    "    # low followers/following ratios means probably impersonation\n",
    "    try:    \n",
    "        follow_ratio = int(usr[\"followersCount\"][\"value\"].replace(\",\",\"\"))/int(usr[\"followingCount\"][\"value\"].replace(\",\",\"\"))\n",
    "    except ZeroDivisionError:\n",
    "        follow_ratio = 0\n",
    "    l.append(np.exp(-sensitivity*follow_ratio))\n",
    "    \n",
    "    # Fuzzy match name and username\n",
    "    l.append(fuzz.ratio(gen_usr[\"name\"],usr[\"name\"])/100)\n",
    "    uname_match = fuzz.ratio(gen_usr[\"username\"],usr[\"username\"])/100\n",
    "    if uname_match>=0 and uname_match<1:\n",
    "        l.append(uname_match)\n",
    "    \n",
    "    # Use word overlap on description\n",
    "    l.append(word_overlap_similarity(gen_usr[\"bio\"].get(\"text\",\"\"),usr[\"bio\"].get(\"text\",\"\")))\n",
    "    \n",
    "    #Get back the avg\n",
    "    l = np.array(l)\n",
    "    return np.average(l)"
   ]
  },
  {
   "cell_type": "code",
   "execution_count": 91,
   "metadata": {
    "hidden": true
   },
   "outputs": [
    {
     "name": "stdout",
     "output_type": "stream",
     "text": [
      "{'bio': {'text': 'A ghost that eats pizza drinks chai, loves bikes and listens '\n",
      "                 'to violin and piano'},\n",
      " 'name': 'Akhil Singh the Necromancer',\n",
      " 'username': '_akhi1singh__',\n",
      " 'verified': True}\n"
     ]
    }
   ],
   "source": [
    "pprint(gen_usr)"
   ]
  },
  {
   "cell_type": "code",
   "execution_count": 92,
   "metadata": {
    "hidden": true
   },
   "outputs": [
    {
     "name": "stdout",
     "output_type": "stream",
     "text": [
      "{'bio': {'tags': [],\n",
      "         'text': 'A ghost that eats pizza drinks chai, loves bikes and listens '\n",
      "                 'to violin and pianoBike enthusiast 🏍️'},\n",
      " 'followersCount': {'text': '337', 'value': '337'},\n",
      " 'followingCount': {'text': '1,555', 'value': '1,555'},\n",
      " 'igtvs': [],\n",
      " 'name': 'Akhil Singh',\n",
      " 'openStories': [],\n",
      " 'picture': None,\n",
      " 'posts': [],\n",
      " 'postsCount': {'text': '11', 'value': '11'},\n",
      " 'username': '_akhilsingh__',\n",
      " 'verified': False}\n"
     ]
    }
   ],
   "source": [
    "pprint(usr)"
   ]
  },
  {
   "cell_type": "code",
   "execution_count": 88,
   "metadata": {
    "hidden": true
   },
   "outputs": [
    {
     "data": {
      "text/plain": [
       "0.7825961473590552"
      ]
     },
     "execution_count": 88,
     "metadata": {},
     "output_type": "execute_result"
    }
   ],
   "source": [
    "predict_impersonation(gen_usr,usr)"
   ]
  },
  {
   "cell_type": "markdown",
   "metadata": {},
   "source": [
    "# Making legit functions"
   ]
  },
  {
   "cell_type": "code",
   "execution_count": 99,
   "metadata": {},
   "outputs": [],
   "source": [
    "def clean_data(usr:dict)->dict:\n",
    "    \"\"\"\n",
    "    Flatten the user data and bring it to normal form\n",
    "    \"\"\"\n",
    "    data = {}\n",
    "    data[\"description\"] = usr[\"bio\"].get(\"text\",\"\")\n",
    "    data[\"followers\"]   = int(usr[\"followersCount\"].get(\"value\",\"0\").replace(\",\",\"\"))\n",
    "    data[\"following\"]   = int(usr[\"followingCount\"].get(\"value\",\"0\").replace(\",\",\"\"))\n",
    "    data[\"verified\"]    = usr[\"verified\"]\n",
    "    data[\"post_count\"]  = int(usr[\"postsCount\"].get(\"value\",\"0\").replace(\",\",\"\"))\n",
    "    data[\"name\"]        = usr[\"name\"]\n",
    "    data[\"username\"]    = usr[\"username\"]\n",
    "    data[\"picture\"]     = usr[\"picture\"]\n",
    "    \n",
    "    return data"
   ]
  },
  {
   "cell_type": "code",
   "execution_count": 100,
   "metadata": {},
   "outputs": [],
   "source": [
    "def get_instagram_user(user_url):\n",
    "    PARAMS[\"url\"] = user_url\n",
    "    try:\n",
    "        assert \"https://www.instagram.com/\" in PARAMS[\"url\"]\n",
    "        usr_data = requests.get(API_URL,PARAMS).json()[\"body\"]\n",
    "        usr_data = clean_data(usr_data)\n",
    "        usr_data[\"url\"] = user_url\n",
    "        usr_data[\"source\"] = \"instagram\"\n",
    "        return usr_data\n",
    "    except AssertionError as ae:\n",
    "        print(f\"The given url is not of an instagram user: {ae}\")\n",
    "        return {\"url\":user_url,\"message\":\"Extraction Failed\"}"
   ]
  },
  {
   "cell_type": "code",
   "execution_count": 103,
   "metadata": {},
   "outputs": [],
   "source": [
    "usr = get_instagram_user(\"https://www.instagram.com/artbyjuliet\")"
   ]
  },
  {
   "cell_type": "code",
   "execution_count": 104,
   "metadata": {},
   "outputs": [
    {
     "data": {
      "text/plain": [
       "{'description': '🇬🇧🇫🇷 Comics in eng/fr ✏️ Commissions: CLOSED‼️Ask permission for repost ✉️ business inquiries by mail ⬇️',\n",
       " 'followers': 92770,\n",
       " 'following': 265,\n",
       " 'verified': True,\n",
       " 'post_count': 274,\n",
       " 'name': 'Juliette',\n",
       " 'username': 'artbyjuliet',\n",
       " 'picture': 'https://scontent-sea1-1.cdninstagram.com/v/t51.2885-19/s150x150/83923473_679724872564551_8335522487689281536_n.jpg?_nc_ht=scontent-sea1-1.cdninstagram.com&_nc_ohc=Qp_hig7KNR8AX94M4-J&oh=0058cb4530a2a7b3c59677268a2313f5&oe=5EEAB0AA',\n",
       " 'url': 'https://www.instagram.com/artbyjuliet',\n",
       " 'source': 'instagram'}"
      ]
     },
     "execution_count": 104,
     "metadata": {},
     "output_type": "execute_result"
    }
   ],
   "source": [
    "usr"
   ]
  },
  {
   "cell_type": "code",
   "execution_count": 106,
   "metadata": {},
   "outputs": [
    {
     "name": "stdout",
     "output_type": "stream",
     "text": [
      "{'description': 'Artist who loves to paint stuff',\n",
      " 'name': 'Juliet',\n",
      " 'username': 'fartbyjuliet',\n",
      " 'verified': True}\n"
     ]
    }
   ],
   "source": [
    "gen_usr={}\n",
    "gen_usr[\"name\"] = \"Juliet\"\n",
    "gen_usr[\"username\"] = \"fartbyjuliet\"\n",
    "gen_usr[\"verified\"] = True\n",
    "gen_usr[\"description\"] = \"Artist who loves to paint stuff\"\n",
    "pprint(gen_usr)"
   ]
  },
  {
   "cell_type": "code",
   "execution_count": 109,
   "metadata": {},
   "outputs": [],
   "source": [
    "def predict_impersonation(gen_usr,usr):\n",
    "    l = []\n",
    "    global sensitivity\n",
    "    # Img similarity goes here\n",
    "    # l.append(calc_sim(gen_usr[\"picture\"],usr.get(\"picture\")))\n",
    "    \n",
    "    # if genuine user is verified, append curent usr's verification status\n",
    "    if gen_usr[\"verified\"]:\n",
    "        l.append(int(not usr[\"verified\"]))\n",
    "    \n",
    "    # low followers/following ratios means probably impersonation\n",
    "    try:    \n",
    "        follow_ratio = usr.get(\"followers\",0)/usr.get(\"following\",0)\n",
    "    except ZeroDivisionError:\n",
    "        follow_ratio = 0\n",
    "    l.append(np.exp(-sensitivity*follow_ratio))\n",
    "    \n",
    "    # Fuzzy match name and username\n",
    "    l.append(fuzz.ratio(gen_usr[\"name\"],usr[\"name\"])/100)\n",
    "    uname_match = fuzz.ratio(gen_usr[\"username\"],usr[\"username\"])/100\n",
    "    if uname_match>=0 and uname_match<1:\n",
    "        l.append(uname_match)\n",
    "    \n",
    "    # Use word overlap on description\n",
    "    l.append(1-word_overlap_similarity(gen_usr.get(\"description\",\"\"),usr.get(\"description\",\"\")))\n",
    "    \n",
    "    #Get back the avg\n",
    "    l = np.array(l)\n",
    "    return np.average(l)"
   ]
  },
  {
   "cell_type": "code",
   "execution_count": 110,
   "metadata": {},
   "outputs": [
    {
     "data": {
      "text/plain": [
       "0.564"
      ]
     },
     "execution_count": 110,
     "metadata": {},
     "output_type": "execute_result"
    }
   ],
   "source": [
    "predict_impersonation(gen_usr,usr)"
   ]
  },
  {
   "cell_type": "code",
   "execution_count": null,
   "metadata": {},
   "outputs": [],
   "source": []
  }
 ],
 "metadata": {
  "kernelspec": {
   "display_name": "Python [conda env:data_extraction] *",
   "language": "python",
   "name": "conda-env-data_extraction-py"
  },
  "language_info": {
   "codemirror_mode": {
    "name": "ipython",
    "version": 3
   },
   "file_extension": ".py",
   "mimetype": "text/x-python",
   "name": "python",
   "nbconvert_exporter": "python",
   "pygments_lexer": "ipython3",
   "version": "3.7.4"
  },
  "toc": {
   "base_numbering": 1,
   "nav_menu": {},
   "number_sections": true,
   "sideBar": true,
   "skip_h1_title": false,
   "title_cell": "Table of Contents",
   "title_sidebar": "Contents",
   "toc_cell": false,
   "toc_position": {},
   "toc_section_display": true,
   "toc_window_display": false
  },
  "varInspector": {
   "cols": {
    "lenName": 16,
    "lenType": 16,
    "lenVar": 40
   },
   "kernels_config": {
    "python": {
     "delete_cmd_postfix": "",
     "delete_cmd_prefix": "del ",
     "library": "var_list.py",
     "varRefreshCmd": "print(var_dic_list())"
    },
    "r": {
     "delete_cmd_postfix": ") ",
     "delete_cmd_prefix": "rm(",
     "library": "var_list.r",
     "varRefreshCmd": "cat(var_dic_list()) "
    }
   },
   "types_to_exclude": [
    "module",
    "function",
    "builtin_function_or_method",
    "instance",
    "_Feature"
   ],
   "window_display": false
  }
 },
 "nbformat": 4,
 "nbformat_minor": 2
}
